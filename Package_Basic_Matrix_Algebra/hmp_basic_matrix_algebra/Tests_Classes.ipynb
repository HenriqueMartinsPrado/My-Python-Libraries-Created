{
 "cells": [
  {
   "source": [
    "<h2>Test classes</h2>\n",
    "<h3>Autor: Henrique M. Prado</h3>"
   ],
   "cell_type": "markdown",
   "metadata": {}
  },
  {
   "cell_type": "code",
   "execution_count": 28,
   "metadata": {},
   "outputs": [],
   "source": [
    "class Operations:\n",
    "    '''This class is going to get the 2 numbers for all operations like add, subtract, division and multiply'''\n",
    "    def __int__(self, n1, n2):\n",
    "        self.n1 = n1\n",
    "        self.n2 = n2"
   ]
  },
  {
   "cell_type": "code",
   "execution_count": 69,
   "metadata": {},
   "outputs": [],
   "source": [
    "#from .GeneralOperations import Operations\n",
    "\n",
    "class Add(Operations):\n",
    "    '''\n",
    "    This class inherit the features from Operations class.\n",
    "    The goal od this class is to add 2 numbers.\n",
    "    '''\n",
    "\n",
    "    '''\n",
    "    Initializing the variable in memory\n",
    "    '''\n",
    "    def __init__(self, n1, n2):\n",
    "        Operations.__init__(self, n1, n2)\n",
    "\n",
    "    '''\n",
    "    This method add 2 numbers\n",
    "    '''\n",
    "    def soma(n1, n2):\n",
    "        return (n1+n2)"
   ]
  },
  {
   "cell_type": "code",
   "execution_count": 70,
   "metadata": {},
   "outputs": [],
   "source": [
    "soma = Add.soma(1, 2)"
   ]
  },
  {
   "cell_type": "code",
   "execution_count": 71,
   "metadata": {},
   "outputs": [
    {
     "output_type": "stream",
     "name": "stdout",
     "text": [
      "3\n"
     ]
    }
   ],
   "source": [
    "print(soma)"
   ]
  },
  {
   "cell_type": "code",
   "execution_count": 48,
   "metadata": {},
   "outputs": [],
   "source": [
    "class Subtraction(Operations):\n",
    "    '''\n",
    "    This class inherit the features from Operations class.\n",
    "    The goal od this class is to subtract 2 numbers.\n",
    "    '''\n",
    "\n",
    "    '''\n",
    "    Initializing the variable in memory\n",
    "    '''\n",
    "    def __init__(self, n1, n2):\n",
    "        Operations.__init__(self, n1, n2)\n",
    "\n",
    "    '''\n",
    "    This method subtract 2 numbers\n",
    "    '''\n",
    "    def sub(n1, n2):\n",
    "        if (n1<n2):\n",
    "         return n2-n1\n",
    "        else:\n",
    "             return n1-n2"
   ]
  },
  {
   "cell_type": "code",
   "execution_count": 49,
   "metadata": {},
   "outputs": [],
   "source": [
    "sub = Subtraction.sub(5, 1)"
   ]
  },
  {
   "cell_type": "code",
   "execution_count": 50,
   "metadata": {},
   "outputs": [
    {
     "output_type": "stream",
     "name": "stdout",
     "text": [
      "4\n"
     ]
    }
   ],
   "source": [
    "print(sub)"
   ]
  },
  {
   "cell_type": "code",
   "execution_count": 51,
   "metadata": {},
   "outputs": [],
   "source": [
    "class Multiplication(Operations):\n",
    "    '''\n",
    "    This class inherit the features from Operations class.\n",
    "    The goal od this class is to multiply 2 numbers.\n",
    "    '''\n",
    "\n",
    "    '''\n",
    "    Initializing the variable in memory\n",
    "    '''\n",
    "    def __init__(self, n1, n2):\n",
    "        Operations.__init__(self, n1, n2)\n",
    "\n",
    "    '''\n",
    "    This method multiply 2 numbers\n",
    "    '''\n",
    "    def multiply(n1, n2):\n",
    "        return n1*n2"
   ]
  },
  {
   "cell_type": "code",
   "execution_count": 52,
   "metadata": {},
   "outputs": [],
   "source": [
    "multiply = Multiplication.multiply(2, 4)"
   ]
  },
  {
   "cell_type": "code",
   "execution_count": 53,
   "metadata": {},
   "outputs": [
    {
     "output_type": "stream",
     "name": "stdout",
     "text": [
      "8\n"
     ]
    }
   ],
   "source": [
    "print(multiply)"
   ]
  },
  {
   "cell_type": "code",
   "execution_count": 54,
   "metadata": {},
   "outputs": [],
   "source": [
    "class Division(Operations):\n",
    "    '''\n",
    "    This class inherit the features from Operations class.\n",
    "    The goal od this class is to divide 2 numbers.\n",
    "    '''\n",
    "\n",
    "    '''\n",
    "    Initializing the variable in memory\n",
    "    '''\n",
    "    def __init__(self, n1, n2):\n",
    "        Operations.__init__(self, n1, n2)\n",
    "\n",
    "    '''\n",
    "    This method divide 2 numbers\n",
    "    '''\n",
    "    def div(n1, n2):\n",
    "        return (n1/n2)"
   ]
  },
  {
   "cell_type": "code",
   "execution_count": 55,
   "metadata": {},
   "outputs": [],
   "source": [
    "div = Division.div(4, 2)"
   ]
  },
  {
   "cell_type": "code",
   "execution_count": 56,
   "metadata": {},
   "outputs": [
    {
     "output_type": "stream",
     "name": "stdout",
     "text": [
      "2.0\n"
     ]
    }
   ],
   "source": [
    "print(div)"
   ]
  },
  {
   "cell_type": "code",
   "execution_count": null,
   "metadata": {},
   "outputs": [],
   "source": []
  }
 ],
 "metadata": {
  "kernelspec": {
   "display_name": "Python 3",
   "language": "python",
   "name": "python3"
  },
  "language_info": {
   "codemirror_mode": {
    "name": "ipython",
    "version": 3
   },
   "file_extension": ".py",
   "mimetype": "text/x-python",
   "name": "python",
   "nbconvert_exporter": "python",
   "pygments_lexer": "ipython3",
   "version": "3.8.5-final"
  }
 },
 "nbformat": 4,
 "nbformat_minor": 4
}